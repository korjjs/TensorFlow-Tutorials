{
  "nbformat": 4,
  "nbformat_minor": 0,
  "metadata": {
    "colab": {
      "name": "03 - TensorFlow Basic.ipynb",
      "provenance": [],
      "collapsed_sections": [],
      "authorship_tag": "ABX9TyPjOhBGI1jNIWui9X2EgmqD",
      "include_colab_link": true
    },
    "kernelspec": {
      "name": "python3",
      "display_name": "Python 3"
    }
  },
  "cells": [
    {
      "cell_type": "markdown",
      "metadata": {
        "id": "view-in-github",
        "colab_type": "text"
      },
      "source": [
        "<a href=\"https://colab.research.google.com/github/korjjs/TensorFlow-Tutorials/blob/master/03_TensorFlow_Basic.ipynb\" target=\"_parent\"><img src=\"https://colab.research.google.com/assets/colab-badge.svg\" alt=\"Open In Colab\"/></a>"
      ]
    },
    {
      "cell_type": "code",
      "metadata": {
        "id": "AvshftTsajO4",
        "outputId": "e8d90de3-4b2f-472b-867b-9affd3ebf040",
        "colab": {
          "base_uri": "https://localhost:8080/",
          "height": 143
        }
      },
      "source": [
        "# 텐서플로우의 기본적인 구성을 익힙니다.\n",
        "import tensorflow.compat.v1 as tf\n",
        "tf.disable_v2_behavior()\n",
        "\n",
        "# tf.constant: 말 그대로 상수입니다.\n",
        "hello = tf.constant('Hello, TensorFlow!')\n",
        "print(hello)\n",
        "\n",
        "a = tf.constant(10)\n",
        "b = tf.constant(32)\n",
        "c = tf.add(a, b)  # a + b 로도 쓸 수 있음\n",
        "print(c)\n",
        "\n",
        "# 위에서 변수와 수식들을 정의했지만, 실행이 정의한 시점에서 실행되는 것은 아닙니다.\n",
        "# 다음처럼 Session 객제와 run 메소드를 사용할 때 계산이 됩니다.\n",
        "# 따라서 모델을 구성하는 것과, 실행하는 것을 분리하여 프로그램을 깔끔하게 작성할 수 있습니다.\n",
        "# 그래프를 실행할 세션을 구성합니다.\n",
        "sess = tf.Session()\n",
        "# sess.run: 설정한 텐서 그래프(변수나 수식 등등)를 실행합니다.\n",
        "print(sess.run(hello))\n",
        "print(sess.run([a, b, c]))\n",
        "\n",
        "# 세션을 닫습니다.\n",
        "sess.close()"
      ],
      "execution_count": 1,
      "outputs": [
        {
          "output_type": "stream",
          "text": [
            "WARNING:tensorflow:From /usr/local/lib/python3.6/dist-packages/tensorflow/python/compat/v2_compat.py:96: disable_resource_variables (from tensorflow.python.ops.variable_scope) is deprecated and will be removed in a future version.\n",
            "Instructions for updating:\n",
            "non-resource variables are not supported in the long term\n",
            "Tensor(\"Const:0\", shape=(), dtype=string)\n",
            "Tensor(\"Add:0\", shape=(), dtype=int32)\n",
            "b'Hello, TensorFlow!'\n",
            "[10, 32, 42]\n"
          ],
          "name": "stdout"
        }
      ]
    }
  ]
}