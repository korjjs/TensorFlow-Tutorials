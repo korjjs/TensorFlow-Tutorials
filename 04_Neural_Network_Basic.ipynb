{
  "nbformat": 4,
  "nbformat_minor": 0,
  "metadata": {
    "colab": {
      "name": "04 - Neural Network Basic.ipynb",
      "provenance": [],
      "authorship_tag": "ABX9TyN821SUANEqDmdGEy/W7nYG",
      "include_colab_link": true
    },
    "kernelspec": {
      "name": "python3",
      "display_name": "Python 3"
    }
  },
  "cells": [
    {
      "cell_type": "markdown",
      "metadata": {
        "id": "view-in-github",
        "colab_type": "text"
      },
      "source": [
        "<a href=\"https://colab.research.google.com/github/korjjs/TensorFlow-Tutorials/blob/master/04_Neural_Network_Basic.ipynb\" target=\"_parent\"><img src=\"https://colab.research.google.com/assets/colab-badge.svg\" alt=\"Open In Colab\"/></a>"
      ]
    },
    {
      "cell_type": "markdown",
      "metadata": {
        "id": "n0wW-QCww0Au"
      },
      "source": [
        "# 간단한 분류모델 구현하기"
      ]
    },
    {
      "cell_type": "code",
      "metadata": {
        "id": "VrzLs-9duOKQ"
      },
      "source": [
        "# 털과 날개가 있는지 없는지에 따라, 포유류인지 조류인지 분류하는 신경망 모델을 만들어봅니다.\n",
        "import tensorflow.compat.v1 as tf\n",
        "tf.disable_v2_behavior()\n",
        "import numpy as np\n",
        "\n",
        "# [털, 날개]\n",
        "x_data = np.array(\n",
        "    [[0, 0], [1, 0], [1, 1], [0, 0], [0, 0], [0, 1]])\n",
        "\n",
        "# [기타, 포유류, 조류]\n",
        "# 다음과 같은 형식을 one-hot 형식의 데이터라고 합니다.\n",
        "y_data = np.array([\n",
        "    [1, 0, 0],  # 기타\n",
        "    [0, 1, 0],  # 포유류\n",
        "    [0, 0, 1],  # 조류\n",
        "    [1, 0, 0],\n",
        "    [1, 0, 0],\n",
        "    [0, 0, 1]\n",
        "])"
      ],
      "execution_count": 2,
      "outputs": []
    },
    {
      "cell_type": "code",
      "metadata": {
        "id": "Ix-WaMAXuljG"
      },
      "source": [
        "#########\n",
        "# 신경망 모델 구성\n",
        "######\n",
        "X = tf.placeholder(tf.float32)\n",
        "Y = tf.placeholder(tf.float32)\n",
        "\n",
        "# 신경망은 2차원으로 [입력층(특성), 출력층(레이블)] -> [2, 3] 으로 정합니다.\n",
        "W = tf.Variable(tf.random_uniform([2, 3], -1., 1.))\n",
        "\n",
        "# 편향을 각각 각 레이어의 아웃풋 갯수로 설정합니다.\n",
        "# 편향은 아웃풋의 갯수, 즉 최종 결과값의 분류 갯수인 3으로 설정합니다.\n",
        "b = tf.Variable(tf.zeros([3]))\n",
        "\n",
        "# 신경망에 가중치 W과 편향 b을 적용합니다\n",
        "L = tf.add(tf.matmul(X, W), b)\n",
        "# 가중치와 편향을 이용해 계산한 결과 값에\n",
        "# 텐서플로우에서 기본적으로 제공하는 활성화 함수인 ReLU 함수를 적용합니다.\n",
        "L = tf.nn.relu(L)\n",
        "\n",
        "# 마지막으로 softmax 함수를 이용하여 출력값을 사용하기 쉽게 만듭니다\n",
        "# softmax 함수는 다음처럼 결과값을 전체합이 1인 확률로 만들어주는 함수입니다.\n",
        "# 예) [8.04, 2.76, -6.52] -> [0.53 0.24 0.23]\n",
        "model = tf.nn.softmax(L)\n",
        "\n",
        "# 신경망을 최적화하기 위한 비용 함수를 작성합니다.\n",
        "# 각 개별 결과에 대한 합을 구한 뒤 평균을 내는 방식을 사용합니다.\n",
        "# 전체 합이 아닌, 개별 결과를 구한 뒤 평균을 내는 방식을 사용하기 위해 axis 옵션을 사용합니다.\n",
        "# axis 옵션이 없으면 -1.09 처럼 총합인 스칼라값으로 출력됩니다.\n",
        "#        Y         model         Y * tf.log(model)   reduce_sum(axis=1)\n",
        "# 예) [[1 0 0]  [[0.1 0.7 0.2]  -> [[-1.0  0    0]  -> [-1.0, -0.09]\n",
        "#     [0 1 0]]  [0.2 0.8 0.0]]     [ 0   -0.09 0]]\n",
        "# 즉, 이것은 예측값과 실제값 사이의 확률 분포의 차이를 비용으로 계산한 것이며,\n",
        "# 이것을 Cross-Entropy 라고 합니다.\n",
        "cost = tf.reduce_mean(-tf.reduce_sum(Y * tf.log(model), axis=1))\n",
        "\n",
        "optimizer = tf.train.GradientDescentOptimizer(learning_rate=0.01)\n",
        "train_op = optimizer.minimize(cost)"
      ],
      "execution_count": 3,
      "outputs": []
    },
    {
      "cell_type": "code",
      "metadata": {
        "id": "vkiMisX6upQA",
        "outputId": "2e92aa03-77da-4070-e882-3929189a8d7a",
        "colab": {
          "base_uri": "https://localhost:8080/",
          "height": 197
        }
      },
      "source": [
        "#########\n",
        "# 신경망 모델 학습\n",
        "######\n",
        "init = tf.global_variables_initializer()\n",
        "sess = tf.Session()\n",
        "sess.run(init)\n",
        "\n",
        "for step in range(100):\n",
        "    sess.run(train_op, feed_dict={X: x_data, Y: y_data})\n",
        "\n",
        "    if (step + 1) % 10 == 0:\n",
        "        print(step + 1, sess.run(cost, feed_dict={X: x_data, Y: y_data}))"
      ],
      "execution_count": 17,
      "outputs": [
        {
          "output_type": "stream",
          "text": [
            "10 0.994883\n",
            "20 0.98815864\n",
            "30 0.98162514\n",
            "40 0.9752732\n",
            "50 0.9691631\n",
            "60 0.9631524\n",
            "70 0.95737463\n",
            "80 0.95175284\n",
            "90 0.9462784\n",
            "100 0.9409442\n"
          ],
          "name": "stdout"
        }
      ]
    },
    {
      "cell_type": "code",
      "metadata": {
        "id": "sNo_rMG0urNC",
        "outputId": "2baeffa5-a509-4d1c-ea34-2df81a625d27",
        "colab": {
          "base_uri": "https://localhost:8080/",
          "height": 71
        }
      },
      "source": [
        "#########\n",
        "# 결과 확인\n",
        "# 0: 기타 1: 포유류, 2: 조류\n",
        "######\n",
        "# tf.argmax: 예측값과 실제값의 행렬에서 tf.argmax 를 이용해 가장 큰 값을 가져옵니다.\n",
        "# 예) [[0 1 0] [1 0 0]] -> [1 0]\n",
        "#    [[0.2 0.7 0.1] [0.9 0.1 0.]] -> [1 0]\n",
        "prediction = tf.argmax(model, 1)\n",
        "target = tf.argmax(Y, 1)\n",
        "print('예측값:', sess.run(prediction, feed_dict={X: x_data}))\n",
        "print('실제값:', sess.run(target, feed_dict={Y: y_data}))\n",
        "\n",
        "is_correct = tf.equal(prediction, target)\n",
        "accuracy = tf.reduce_mean(tf.cast(is_correct, tf.float32))\n",
        "print('정확도: %.2f' % sess.run(accuracy * 100, feed_dict={X: x_data, Y: y_data}))"
      ],
      "execution_count": 18,
      "outputs": [
        {
          "output_type": "stream",
          "text": [
            "예측값: [2 1 2 2 2 2]\n",
            "실제값: [0 1 2 0 0 2]\n",
            "정확도: 50.00\n"
          ],
          "name": "stdout"
        }
      ]
    },
    {
      "cell_type": "markdown",
      "metadata": {
        "id": "gJPVuUUEw6xQ"
      },
      "source": [
        "# 심층 신경망 구현하기"
      ]
    },
    {
      "cell_type": "code",
      "metadata": {
        "id": "5Lo9aKUxxC1O"
      },
      "source": [
        "# 털과 날개가 있는지 없는지에 따라, 포유류인지 조류인지 분류하는 신경망 모델을 만들어봅니다.\n",
        "# 신경망의 레이어를 여러개로 구성하여 말로만 듣던 딥러닝을 구성해 봅시다!\n",
        "import tensorflow.compat.v1 as tf\n",
        "tf.disable_v2_behavior()\n",
        "import numpy as np\n",
        "\n",
        "# [털, 날개]\n",
        "x_data = np.array(\n",
        "    [[0, 0], [1, 0], [1, 1], [0, 0], [0, 0], [0, 1]])\n",
        "\n",
        "# [기타, 포유류, 조류]\n",
        "y_data = np.array([\n",
        "    [1, 0, 0],  # 기타\n",
        "    [0, 1, 0],  # 포유류\n",
        "    [0, 0, 1],  # 조류\n",
        "    [1, 0, 0],\n",
        "    [1, 0, 0],\n",
        "    [0, 0, 1]\n",
        "])"
      ],
      "execution_count": 19,
      "outputs": []
    },
    {
      "cell_type": "code",
      "metadata": {
        "id": "3V8POiDKxGgu"
      },
      "source": [
        "#########\n",
        "# 신경망 모델 구성\n",
        "######\n",
        "X = tf.placeholder(tf.float32)\n",
        "Y = tf.placeholder(tf.float32)\n",
        "\n",
        "# 첫번째 가중치의 차원은 [특성, 히든 레이어의 뉴런갯수] -> [2, 10] 으로 정합니다.\n",
        "W1 = tf.Variable(tf.random_uniform([2, 10], -1., 1.))\n",
        "# 두번째 가중치의 차원을 [첫번째 히든 레이어의 뉴런 갯수, 분류 갯수] -> [10, 3] 으로 정합니다.\n",
        "W2 = tf.Variable(tf.random_uniform([10, 3], -1., 1.))\n",
        "\n",
        "# 편향을 각각 각 레이어의 아웃풋 갯수로 설정합니다.\n",
        "# b1 은 히든 레이어의 뉴런 갯수로, b2 는 최종 결과값 즉, 분류 갯수인 3으로 설정합니다.\n",
        "b1 = tf.Variable(tf.zeros([10]))\n",
        "b2 = tf.Variable(tf.zeros([3]))\n",
        "\n",
        "# 신경망의 히든 레이어에 가중치 W1과 편향 b1을 적용합니다\n",
        "L1 = tf.add(tf.matmul(X, W1), b1)\n",
        "L1 = tf.nn.relu(L1)\n",
        "\n",
        "# 최종적인 아웃풋을 계산합니다.\n",
        "# 히든레이어에 두번째 가중치 W2와 편향 b2를 적용하여 3개의 출력값을 만들어냅니다.\n",
        "model = tf.add(tf.matmul(L1, W2), b2)\n",
        "\n",
        "# 텐서플로우에서 기본적으로 제공되는 크로스 엔트로피 함수를 이용해\n",
        "# 복잡한 수식을 사용하지 않고도 최적화를 위한 비용 함수를 다음처럼 간단하게 적용할 수 있습니다.\n",
        "cost = tf.reduce_mean(\n",
        "    tf.nn.softmax_cross_entropy_with_logits_v2(labels=Y, logits=model))\n",
        "\n",
        "optimizer = tf.train.AdamOptimizer(learning_rate=0.01)\n",
        "train_op = optimizer.minimize(cost)"
      ],
      "execution_count": 20,
      "outputs": []
    },
    {
      "cell_type": "code",
      "metadata": {
        "id": "DIzV2g6AxJcE",
        "outputId": "6311e6f2-44bf-4f2b-e8ff-6319b4f2a420",
        "colab": {
          "base_uri": "https://localhost:8080/",
          "height": 197
        }
      },
      "source": [
        "#########\n",
        "# 신경망 모델 학습\n",
        "######\n",
        "init = tf.global_variables_initializer()\n",
        "sess = tf.Session()\n",
        "sess.run(init)\n",
        "\n",
        "for step in range(100):\n",
        "    sess.run(train_op, feed_dict={X: x_data, Y: y_data})\n",
        "\n",
        "    if (step + 1) % 10 == 0:\n",
        "        print(step + 1, sess.run(cost, feed_dict={X: x_data, Y: y_data}))"
      ],
      "execution_count": 21,
      "outputs": [
        {
          "output_type": "stream",
          "text": [
            "10 0.91199636\n",
            "20 0.81380993\n",
            "30 0.71310216\n",
            "40 0.5808223\n",
            "50 0.44515195\n",
            "60 0.3271035\n",
            "70 0.23604734\n",
            "80 0.17089468\n",
            "90 0.12426609\n",
            "100 0.09084792\n"
          ],
          "name": "stdout"
        }
      ]
    },
    {
      "cell_type": "code",
      "metadata": {
        "id": "0nyy75F1xLEn",
        "outputId": "d7cbf385-394e-402b-8bba-84a673a77b77",
        "colab": {
          "base_uri": "https://localhost:8080/",
          "height": 71
        }
      },
      "source": [
        "#########\n",
        "# 결과 확인\n",
        "# 0: 기타 1: 포유류, 2: 조류\n",
        "######\n",
        "prediction = tf.argmax(model, 1)\n",
        "target = tf.argmax(Y, 1)\n",
        "print('예측값:', sess.run(prediction, feed_dict={X: x_data}))\n",
        "print('실제값:', sess.run(target, feed_dict={Y: y_data}))\n",
        "\n",
        "is_correct = tf.equal(prediction, target)\n",
        "accuracy = tf.reduce_mean(tf.cast(is_correct, tf.float32))\n",
        "print('정확도: %.2f' % sess.run(accuracy * 100, feed_dict={X: x_data, Y: y_data}))"
      ],
      "execution_count": 22,
      "outputs": [
        {
          "output_type": "stream",
          "text": [
            "예측값: [0 1 2 0 0 2]\n",
            "실제값: [0 1 2 0 0 2]\n",
            "정확도: 100.00\n"
          ],
          "name": "stdout"
        }
      ]
    }
  ]
}